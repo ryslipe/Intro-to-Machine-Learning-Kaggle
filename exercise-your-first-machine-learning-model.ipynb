{
 "cells": [
  {
   "cell_type": "markdown",
   "id": "8194ca69",
   "metadata": {
    "papermill": {
     "duration": 0.005739,
     "end_time": "2024-08-25T22:39:49.523064",
     "exception": false,
     "start_time": "2024-08-25T22:39:49.517325",
     "status": "completed"
    },
    "tags": []
   },
   "source": [
    "**This notebook is an exercise in the [Introduction to Machine Learning](https://www.kaggle.com/learn/intro-to-machine-learning) course.  You can reference the tutorial at [this link](https://www.kaggle.com/dansbecker/your-first-machine-learning-model).**\n",
    "\n",
    "---\n"
   ]
  },
  {
   "cell_type": "markdown",
   "id": "7bf02c97",
   "metadata": {
    "papermill": {
     "duration": 0.004712,
     "end_time": "2024-08-25T22:39:49.533101",
     "exception": false,
     "start_time": "2024-08-25T22:39:49.528389",
     "status": "completed"
    },
    "tags": []
   },
   "source": [
    "## Recap\n",
    "So far, you have loaded your data and reviewed it with the following code. Run this cell to set up your coding environment where the previous step left off."
   ]
  },
  {
   "cell_type": "code",
   "execution_count": 1,
   "id": "54496675",
   "metadata": {
    "execution": {
     "iopub.execute_input": "2024-08-25T22:39:49.544794Z",
     "iopub.status.busy": "2024-08-25T22:39:49.544343Z",
     "iopub.status.idle": "2024-08-25T22:39:52.064305Z",
     "shell.execute_reply": "2024-08-25T22:39:52.062874Z"
    },
    "papermill": {
     "duration": 2.528544,
     "end_time": "2024-08-25T22:39:52.066680",
     "exception": false,
     "start_time": "2024-08-25T22:39:49.538136",
     "status": "completed"
    },
    "tags": []
   },
   "outputs": [
    {
     "name": "stdout",
     "output_type": "stream",
     "text": [
      "Setup Complete\n"
     ]
    }
   ],
   "source": [
    "# Code you have previously used to load data\n",
    "import pandas as pd\n",
    "\n",
    "# Path of the file to read\n",
    "iowa_file_path = '../input/home-data-for-ml-course/train.csv'\n",
    "\n",
    "home_data = pd.read_csv(iowa_file_path)\n",
    "\n",
    "# Set up code checking\n",
    "from learntools.core import binder\n",
    "binder.bind(globals())\n",
    "from learntools.machine_learning.ex3 import *\n",
    "\n",
    "print(\"Setup Complete\")"
   ]
  },
  {
   "cell_type": "markdown",
   "id": "f919953b",
   "metadata": {
    "papermill": {
     "duration": 0.004932,
     "end_time": "2024-08-25T22:39:52.076864",
     "exception": false,
     "start_time": "2024-08-25T22:39:52.071932",
     "status": "completed"
    },
    "tags": []
   },
   "source": [
    "# Exercises\n",
    "\n",
    "## Step 1: Specify Prediction Target\n",
    "Select the target variable, which corresponds to the sales price. Save this to a new variable called `y`. You'll need to print a list of the columns to find the name of the column you need.\n"
   ]
  },
  {
   "cell_type": "code",
   "execution_count": 2,
   "id": "47f61af1",
   "metadata": {
    "execution": {
     "iopub.execute_input": "2024-08-25T22:39:52.088991Z",
     "iopub.status.busy": "2024-08-25T22:39:52.088433Z",
     "iopub.status.idle": "2024-08-25T22:39:52.098513Z",
     "shell.execute_reply": "2024-08-25T22:39:52.097373Z"
    },
    "papermill": {
     "duration": 0.018726,
     "end_time": "2024-08-25T22:39:52.100728",
     "exception": false,
     "start_time": "2024-08-25T22:39:52.082002",
     "status": "completed"
    },
    "tags": []
   },
   "outputs": [
    {
     "data": {
      "text/plain": [
       "Index(['Id', 'MSSubClass', 'MSZoning', 'LotFrontage', 'LotArea', 'Street',\n",
       "       'Alley', 'LotShape', 'LandContour', 'Utilities', 'LotConfig',\n",
       "       'LandSlope', 'Neighborhood', 'Condition1', 'Condition2', 'BldgType',\n",
       "       'HouseStyle', 'OverallQual', 'OverallCond', 'YearBuilt', 'YearRemodAdd',\n",
       "       'RoofStyle', 'RoofMatl', 'Exterior1st', 'Exterior2nd', 'MasVnrType',\n",
       "       'MasVnrArea', 'ExterQual', 'ExterCond', 'Foundation', 'BsmtQual',\n",
       "       'BsmtCond', 'BsmtExposure', 'BsmtFinType1', 'BsmtFinSF1',\n",
       "       'BsmtFinType2', 'BsmtFinSF2', 'BsmtUnfSF', 'TotalBsmtSF', 'Heating',\n",
       "       'HeatingQC', 'CentralAir', 'Electrical', '1stFlrSF', '2ndFlrSF',\n",
       "       'LowQualFinSF', 'GrLivArea', 'BsmtFullBath', 'BsmtHalfBath', 'FullBath',\n",
       "       'HalfBath', 'BedroomAbvGr', 'KitchenAbvGr', 'KitchenQual',\n",
       "       'TotRmsAbvGrd', 'Functional', 'Fireplaces', 'FireplaceQu', 'GarageType',\n",
       "       'GarageYrBlt', 'GarageFinish', 'GarageCars', 'GarageArea', 'GarageQual',\n",
       "       'GarageCond', 'PavedDrive', 'WoodDeckSF', 'OpenPorchSF',\n",
       "       'EnclosedPorch', '3SsnPorch', 'ScreenPorch', 'PoolArea', 'PoolQC',\n",
       "       'Fence', 'MiscFeature', 'MiscVal', 'MoSold', 'YrSold', 'SaleType',\n",
       "       'SaleCondition', 'SalePrice'],\n",
       "      dtype='object')"
      ]
     },
     "execution_count": 2,
     "metadata": {},
     "output_type": "execute_result"
    }
   ],
   "source": [
    "# print the list of columns in the dataset to find the name of the prediction target\n",
    "home_data.columns"
   ]
  },
  {
   "cell_type": "code",
   "execution_count": 3,
   "id": "b5d9d0ad",
   "metadata": {
    "execution": {
     "iopub.execute_input": "2024-08-25T22:39:52.113378Z",
     "iopub.status.busy": "2024-08-25T22:39:52.112972Z",
     "iopub.status.idle": "2024-08-25T22:39:52.127640Z",
     "shell.execute_reply": "2024-08-25T22:39:52.126400Z"
    },
    "papermill": {
     "duration": 0.023938,
     "end_time": "2024-08-25T22:39:52.130093",
     "exception": false,
     "start_time": "2024-08-25T22:39:52.106155",
     "status": "completed"
    },
    "tags": []
   },
   "outputs": [
    {
     "data": {
      "application/javascript": [
       "parent.postMessage({\"jupyterEvent\": \"custom.exercise_interaction\", \"data\": {\"outcomeType\": 1, \"valueTowardsCompletion\": 0.25, \"interactionType\": 1, \"questionType\": 2, \"questionId\": \"1_SetTarget\", \"learnToolsVersion\": \"0.3.4\", \"failureMessage\": \"\", \"exceptionClass\": \"\", \"trace\": \"\"}}, \"*\")"
      ],
      "text/plain": [
       "<IPython.core.display.Javascript object>"
      ]
     },
     "metadata": {},
     "output_type": "display_data"
    },
    {
     "data": {
      "text/markdown": [
       "<span style=\"color:#33cc33\">Correct</span>"
      ],
      "text/plain": [
       "Correct"
      ]
     },
     "metadata": {},
     "output_type": "display_data"
    }
   ],
   "source": [
    "# create target variable\n",
    "y = home_data['SalePrice']\n",
    "\n",
    "# Check your answer\n",
    "step_1.check()"
   ]
  },
  {
   "cell_type": "code",
   "execution_count": 4,
   "id": "24f9bb18",
   "metadata": {
    "execution": {
     "iopub.execute_input": "2024-08-25T22:39:52.143058Z",
     "iopub.status.busy": "2024-08-25T22:39:52.142661Z",
     "iopub.status.idle": "2024-08-25T22:39:52.147545Z",
     "shell.execute_reply": "2024-08-25T22:39:52.146410Z"
    },
    "papermill": {
     "duration": 0.014306,
     "end_time": "2024-08-25T22:39:52.149993",
     "exception": false,
     "start_time": "2024-08-25T22:39:52.135687",
     "status": "completed"
    },
    "tags": []
   },
   "outputs": [],
   "source": [
    "# The lines below will show you a hint or the solution.\n",
    "# step_1.hint() \n",
    "# step_1.solution()"
   ]
  },
  {
   "cell_type": "markdown",
   "id": "cfcf9d2d",
   "metadata": {
    "papermill": {
     "duration": 0.005369,
     "end_time": "2024-08-25T22:39:52.160972",
     "exception": false,
     "start_time": "2024-08-25T22:39:52.155603",
     "status": "completed"
    },
    "tags": []
   },
   "source": [
    "## Step 2: Create X\n",
    "Now you will create a DataFrame called `X` holding the predictive features.\n",
    "\n",
    "Since you want only some columns from the original data, you'll first create a list with the names of the columns you want in `X`.\n",
    "\n",
    "You'll use just the following columns in the list (you can copy and paste the whole list to save some typing, though you'll still need to add quotes):\n",
    "  * LotArea\n",
    "  * YearBuilt\n",
    "  * 1stFlrSF\n",
    "  * 2ndFlrSF\n",
    "  * FullBath\n",
    "  * BedroomAbvGr\n",
    "  * TotRmsAbvGrd\n",
    "\n",
    "After you've created that list of features, use it to create the DataFrame that you'll use to fit the model."
   ]
  },
  {
   "cell_type": "code",
   "execution_count": 5,
   "id": "70c900df",
   "metadata": {
    "execution": {
     "iopub.execute_input": "2024-08-25T22:39:52.174102Z",
     "iopub.status.busy": "2024-08-25T22:39:52.173659Z",
     "iopub.status.idle": "2024-08-25T22:39:52.186677Z",
     "shell.execute_reply": "2024-08-25T22:39:52.185658Z"
    },
    "papermill": {
     "duration": 0.022434,
     "end_time": "2024-08-25T22:39:52.189002",
     "exception": false,
     "start_time": "2024-08-25T22:39:52.166568",
     "status": "completed"
    },
    "tags": []
   },
   "outputs": [
    {
     "data": {
      "application/javascript": [
       "parent.postMessage({\"jupyterEvent\": \"custom.exercise_interaction\", \"data\": {\"outcomeType\": 1, \"valueTowardsCompletion\": 0.25, \"interactionType\": 1, \"questionType\": 2, \"questionId\": \"2_SelectPredictionData\", \"learnToolsVersion\": \"0.3.4\", \"failureMessage\": \"\", \"exceptionClass\": \"\", \"trace\": \"\"}}, \"*\")"
      ],
      "text/plain": [
       "<IPython.core.display.Javascript object>"
      ]
     },
     "metadata": {},
     "output_type": "display_data"
    },
    {
     "data": {
      "text/markdown": [
       "<span style=\"color:#33cc33\">Correct</span>"
      ],
      "text/plain": [
       "Correct"
      ]
     },
     "metadata": {},
     "output_type": "display_data"
    }
   ],
   "source": [
    "# Create the list of features below\n",
    "feature_names = ['LotArea', 'YearBuilt', '1stFlrSF', '2ndFlrSF', 'FullBath', 'BedroomAbvGr',\n",
    "                'TotRmsAbvGrd']\n",
    "\n",
    "# Select data corresponding to features in feature_names\n",
    "X = home_data[feature_names]\n",
    "\n",
    "# Check your answer\n",
    "step_2.check()"
   ]
  },
  {
   "cell_type": "code",
   "execution_count": 6,
   "id": "475867b5",
   "metadata": {
    "execution": {
     "iopub.execute_input": "2024-08-25T22:39:52.203027Z",
     "iopub.status.busy": "2024-08-25T22:39:52.202567Z",
     "iopub.status.idle": "2024-08-25T22:39:52.207366Z",
     "shell.execute_reply": "2024-08-25T22:39:52.206243Z"
    },
    "papermill": {
     "duration": 0.01449,
     "end_time": "2024-08-25T22:39:52.209679",
     "exception": false,
     "start_time": "2024-08-25T22:39:52.195189",
     "status": "completed"
    },
    "tags": []
   },
   "outputs": [],
   "source": [
    "# step_2.hint()\n",
    "# step_2.solution()"
   ]
  },
  {
   "cell_type": "markdown",
   "id": "4931185c",
   "metadata": {
    "papermill": {
     "duration": 0.005565,
     "end_time": "2024-08-25T22:39:52.221451",
     "exception": false,
     "start_time": "2024-08-25T22:39:52.215886",
     "status": "completed"
    },
    "tags": []
   },
   "source": [
    "## Review Data\n",
    "Before building a model, take a quick look at **X** to verify it looks sensible"
   ]
  },
  {
   "cell_type": "code",
   "execution_count": 7,
   "id": "dd5d77f5",
   "metadata": {
    "execution": {
     "iopub.execute_input": "2024-08-25T22:39:52.234782Z",
     "iopub.status.busy": "2024-08-25T22:39:52.234386Z",
     "iopub.status.idle": "2024-08-25T22:39:52.271074Z",
     "shell.execute_reply": "2024-08-25T22:39:52.269725Z"
    },
    "papermill": {
     "duration": 0.046973,
     "end_time": "2024-08-25T22:39:52.274234",
     "exception": false,
     "start_time": "2024-08-25T22:39:52.227261",
     "status": "completed"
    },
    "tags": []
   },
   "outputs": [
    {
     "name": "stdout",
     "output_type": "stream",
     "text": [
      "             LotArea    YearBuilt     1stFlrSF     2ndFlrSF     FullBath  \\\n",
      "count    1460.000000  1460.000000  1460.000000  1460.000000  1460.000000   \n",
      "mean    10516.828082  1971.267808  1162.626712   346.992466     1.565068   \n",
      "std      9981.264932    30.202904   386.587738   436.528436     0.550916   \n",
      "min      1300.000000  1872.000000   334.000000     0.000000     0.000000   \n",
      "25%      7553.500000  1954.000000   882.000000     0.000000     1.000000   \n",
      "50%      9478.500000  1973.000000  1087.000000     0.000000     2.000000   \n",
      "75%     11601.500000  2000.000000  1391.250000   728.000000     2.000000   \n",
      "max    215245.000000  2010.000000  4692.000000  2065.000000     3.000000   \n",
      "\n",
      "       BedroomAbvGr  TotRmsAbvGrd  \n",
      "count   1460.000000   1460.000000  \n",
      "mean       2.866438      6.517808  \n",
      "std        0.815778      1.625393  \n",
      "min        0.000000      2.000000  \n",
      "25%        2.000000      5.000000  \n",
      "50%        3.000000      6.000000  \n",
      "75%        3.000000      7.000000  \n",
      "max        8.000000     14.000000  \n",
      "   LotArea  YearBuilt  1stFlrSF  2ndFlrSF  FullBath  BedroomAbvGr  \\\n",
      "0     8450       2003       856       854         2             3   \n",
      "1     9600       1976      1262         0         2             3   \n",
      "2    11250       2001       920       866         2             3   \n",
      "3     9550       1915       961       756         1             3   \n",
      "4    14260       2000      1145      1053         2             4   \n",
      "\n",
      "   TotRmsAbvGrd  \n",
      "0             8  \n",
      "1             6  \n",
      "2             6  \n",
      "3             7  \n",
      "4             9  \n"
     ]
    }
   ],
   "source": [
    "# Review data\n",
    "# print description or statistics from X\n",
    "print(X.describe())\n",
    "\n",
    "# print the top few lines\n",
    "print(X.head())"
   ]
  },
  {
   "cell_type": "markdown",
   "id": "179561d8",
   "metadata": {
    "papermill": {
     "duration": 0.005643,
     "end_time": "2024-08-25T22:39:52.286747",
     "exception": false,
     "start_time": "2024-08-25T22:39:52.281104",
     "status": "completed"
    },
    "tags": []
   },
   "source": [
    "## Step 3: Specify and Fit Model\n",
    "Create a `DecisionTreeRegressor` and save it iowa_model. Ensure you've done the relevant import from sklearn to run this command.\n",
    "\n",
    "Then fit the model you just created using the data in `X` and `y` that you saved above."
   ]
  },
  {
   "cell_type": "code",
   "execution_count": 8,
   "id": "1b627fa8",
   "metadata": {
    "execution": {
     "iopub.execute_input": "2024-08-25T22:39:52.300374Z",
     "iopub.status.busy": "2024-08-25T22:39:52.299956Z",
     "iopub.status.idle": "2024-08-25T22:39:52.319870Z",
     "shell.execute_reply": "2024-08-25T22:39:52.318599Z"
    },
    "papermill": {
     "duration": 0.029366,
     "end_time": "2024-08-25T22:39:52.321918",
     "exception": false,
     "start_time": "2024-08-25T22:39:52.292552",
     "status": "completed"
    },
    "tags": []
   },
   "outputs": [
    {
     "data": {
      "application/javascript": [
       "parent.postMessage({\"jupyterEvent\": \"custom.exercise_interaction\", \"data\": {\"outcomeType\": 1, \"valueTowardsCompletion\": 0.25, \"interactionType\": 1, \"questionType\": 2, \"questionId\": \"3_CreateModel\", \"learnToolsVersion\": \"0.3.4\", \"failureMessage\": \"\", \"exceptionClass\": \"\", \"trace\": \"\"}}, \"*\")"
      ],
      "text/plain": [
       "<IPython.core.display.Javascript object>"
      ]
     },
     "metadata": {},
     "output_type": "display_data"
    },
    {
     "data": {
      "text/markdown": [
       "<span style=\"color:#33cc33\">Correct</span>"
      ],
      "text/plain": [
       "Correct"
      ]
     },
     "metadata": {},
     "output_type": "display_data"
    }
   ],
   "source": [
    "from sklearn.tree import DecisionTreeRegressor\n",
    "#specify the model. \n",
    "#For model reproducibility, set a numeric value for random_state when specifying the model\n",
    "iowa_model = DecisionTreeRegressor(random_state = 1)\n",
    "\n",
    "# Fit the model\n",
    "iowa_model.fit(X, y)\n",
    "\n",
    "# Check your answer\n",
    "step_3.check()"
   ]
  },
  {
   "cell_type": "code",
   "execution_count": 9,
   "id": "f158987b",
   "metadata": {
    "execution": {
     "iopub.execute_input": "2024-08-25T22:39:52.336052Z",
     "iopub.status.busy": "2024-08-25T22:39:52.335655Z",
     "iopub.status.idle": "2024-08-25T22:39:52.340062Z",
     "shell.execute_reply": "2024-08-25T22:39:52.339000Z"
    },
    "papermill": {
     "duration": 0.014228,
     "end_time": "2024-08-25T22:39:52.342317",
     "exception": false,
     "start_time": "2024-08-25T22:39:52.328089",
     "status": "completed"
    },
    "tags": []
   },
   "outputs": [],
   "source": [
    "# step_3.hint()\n",
    "# step_3.solution()"
   ]
  },
  {
   "cell_type": "markdown",
   "id": "5f50d2c4",
   "metadata": {
    "papermill": {
     "duration": 0.006045,
     "end_time": "2024-08-25T22:39:52.354685",
     "exception": false,
     "start_time": "2024-08-25T22:39:52.348640",
     "status": "completed"
    },
    "tags": []
   },
   "source": [
    "## Step 4: Make Predictions\n",
    "Make predictions with the model's `predict` command using `X` as the data. Save the results to a variable called `predictions`."
   ]
  },
  {
   "cell_type": "code",
   "execution_count": 10,
   "id": "a2efc133",
   "metadata": {
    "execution": {
     "iopub.execute_input": "2024-08-25T22:39:52.368686Z",
     "iopub.status.busy": "2024-08-25T22:39:52.368287Z",
     "iopub.status.idle": "2024-08-25T22:39:52.381953Z",
     "shell.execute_reply": "2024-08-25T22:39:52.380821Z"
    },
    "papermill": {
     "duration": 0.023378,
     "end_time": "2024-08-25T22:39:52.384116",
     "exception": false,
     "start_time": "2024-08-25T22:39:52.360738",
     "status": "completed"
    },
    "tags": []
   },
   "outputs": [
    {
     "name": "stdout",
     "output_type": "stream",
     "text": [
      "[208500. 181500. 223500. ... 266500. 142125. 147500.]\n"
     ]
    },
    {
     "data": {
      "application/javascript": [
       "parent.postMessage({\"jupyterEvent\": \"custom.exercise_interaction\", \"data\": {\"outcomeType\": 1, \"valueTowardsCompletion\": 0.25, \"interactionType\": 1, \"questionType\": 2, \"questionId\": \"4_MakePredictions\", \"learnToolsVersion\": \"0.3.4\", \"failureMessage\": \"\", \"exceptionClass\": \"\", \"trace\": \"\"}}, \"*\")"
      ],
      "text/plain": [
       "<IPython.core.display.Javascript object>"
      ]
     },
     "metadata": {},
     "output_type": "display_data"
    },
    {
     "data": {
      "text/markdown": [
       "<span style=\"color:#33cc33\">Correct</span>"
      ],
      "text/plain": [
       "Correct"
      ]
     },
     "metadata": {},
     "output_type": "display_data"
    }
   ],
   "source": [
    "# make predictions on X\n",
    "predictions = iowa_model.predict(X)\n",
    "print(predictions)\n",
    "\n",
    "# Check your answer\n",
    "step_4.check()"
   ]
  },
  {
   "cell_type": "code",
   "execution_count": 11,
   "id": "82241177",
   "metadata": {
    "execution": {
     "iopub.execute_input": "2024-08-25T22:39:52.398926Z",
     "iopub.status.busy": "2024-08-25T22:39:52.398182Z",
     "iopub.status.idle": "2024-08-25T22:39:52.407157Z",
     "shell.execute_reply": "2024-08-25T22:39:52.406038Z"
    },
    "papermill": {
     "duration": 0.018885,
     "end_time": "2024-08-25T22:39:52.409429",
     "exception": false,
     "start_time": "2024-08-25T22:39:52.390544",
     "status": "completed"
    },
    "tags": []
   },
   "outputs": [
    {
     "data": {
      "application/javascript": [
       "parent.postMessage({\"jupyterEvent\": \"custom.exercise_interaction\", \"data\": {\"interactionType\": 3, \"questionType\": 2, \"questionId\": \"4_MakePredictions\", \"learnToolsVersion\": \"0.3.4\", \"valueTowardsCompletion\": 0.0, \"failureMessage\": \"\", \"exceptionClass\": \"\", \"trace\": \"\", \"outcomeType\": 4}}, \"*\")"
      ],
      "text/plain": [
       "<IPython.core.display.Javascript object>"
      ]
     },
     "metadata": {},
     "output_type": "display_data"
    },
    {
     "data": {
      "text/markdown": [
       "<span style=\"color:#33cc99\">Solution:</span> \n",
       "```python\n",
       "iowa_model.predict(X)\n",
       "```"
      ],
      "text/plain": [
       "Solution: \n",
       "```python\n",
       "iowa_model.predict(X)\n",
       "```"
      ]
     },
     "metadata": {},
     "output_type": "display_data"
    }
   ],
   "source": [
    "# step_4.hint()\n",
    "step_4.solution()"
   ]
  },
  {
   "cell_type": "markdown",
   "id": "517d905f",
   "metadata": {
    "papermill": {
     "duration": 0.006675,
     "end_time": "2024-08-25T22:39:52.422949",
     "exception": false,
     "start_time": "2024-08-25T22:39:52.416274",
     "status": "completed"
    },
    "tags": []
   },
   "source": [
    "## Think About Your Results\n",
    "\n",
    "Use the `head` method to compare the top few predictions to the actual home values (in `y`) for those same homes. Anything surprising?\n"
   ]
  },
  {
   "cell_type": "code",
   "execution_count": 12,
   "id": "cd7e3e92",
   "metadata": {
    "execution": {
     "iopub.execute_input": "2024-08-25T22:39:52.438350Z",
     "iopub.status.busy": "2024-08-25T22:39:52.437896Z",
     "iopub.status.idle": "2024-08-25T22:39:52.444080Z",
     "shell.execute_reply": "2024-08-25T22:39:52.443046Z"
    },
    "papermill": {
     "duration": 0.016859,
     "end_time": "2024-08-25T22:39:52.446406",
     "exception": false,
     "start_time": "2024-08-25T22:39:52.429547",
     "status": "completed"
    },
    "tags": []
   },
   "outputs": [
    {
     "name": "stdout",
     "output_type": "stream",
     "text": [
      "[208500, 181500, 223500, 140000, 250000] [208500.0, 181500.0, 223500.0, 140000.0, 250000.0]\n"
     ]
    }
   ],
   "source": [
    "# actual\n",
    "first_five = home_data['SalePrice'].head()\n",
    "\n",
    "# predictions\n",
    "predictions = predictions[:5]\n",
    "\n",
    "print(list(first_five), list(predictions))\n"
   ]
  },
  {
   "cell_type": "markdown",
   "id": "fed0e97c",
   "metadata": {
    "papermill": {
     "duration": 0.006548,
     "end_time": "2024-08-25T22:39:52.459739",
     "exception": false,
     "start_time": "2024-08-25T22:39:52.453191",
     "status": "completed"
    },
    "tags": []
   },
   "source": [
    "It's natural to ask how accurate the model's predictions will be and how you can improve that. That will be you're next step.\n",
    "\n",
    "# Keep Going\n",
    "\n",
    "You are ready for **[Model Validation](https://www.kaggle.com/dansbecker/model-validation).**\n"
   ]
  },
  {
   "cell_type": "markdown",
   "id": "eb5f006c",
   "metadata": {
    "papermill": {
     "duration": 0.006546,
     "end_time": "2024-08-25T22:39:52.472922",
     "exception": false,
     "start_time": "2024-08-25T22:39:52.466376",
     "status": "completed"
    },
    "tags": []
   },
   "source": [
    "---\n",
    "\n",
    "\n",
    "\n",
    "\n",
    "*Have questions or comments? Visit the [course discussion forum](https://www.kaggle.com/learn/intro-to-machine-learning/discussion) to chat with other learners.*"
   ]
  }
 ],
 "metadata": {
  "kaggle": {
   "accelerator": "none",
   "dataSources": [
    {
     "databundleVersionId": 111096,
     "sourceId": 10211,
     "sourceType": "competition"
    },
    {
     "datasetId": 11167,
     "sourceId": 15520,
     "sourceType": "datasetVersion"
    },
    {
     "datasetId": 2709,
     "sourceId": 38454,
     "sourceType": "datasetVersion"
    }
   ],
   "isGpuEnabled": false,
   "isInternetEnabled": false,
   "language": "python",
   "sourceType": "notebook"
  },
  "kernelspec": {
   "display_name": "Python 3",
   "language": "python",
   "name": "python3"
  },
  "language_info": {
   "codemirror_mode": {
    "name": "ipython",
    "version": 3
   },
   "file_extension": ".py",
   "mimetype": "text/x-python",
   "name": "python",
   "nbconvert_exporter": "python",
   "pygments_lexer": "ipython3",
   "version": "3.10.14"
  },
  "papermill": {
   "default_parameters": {},
   "duration": 6.749396,
   "end_time": "2024-08-25T22:39:53.101491",
   "environment_variables": {},
   "exception": null,
   "input_path": "__notebook__.ipynb",
   "output_path": "__notebook__.ipynb",
   "parameters": {},
   "start_time": "2024-08-25T22:39:46.352095",
   "version": "2.6.0"
  }
 },
 "nbformat": 4,
 "nbformat_minor": 5
}
